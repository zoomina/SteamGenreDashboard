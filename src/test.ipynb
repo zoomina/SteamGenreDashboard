{
 "cells": [
  {
   "cell_type": "code",
   "execution_count": 2,
   "id": "dd71de69",
   "metadata": {},
   "outputs": [],
   "source": [
    "import pandas as pd"
   ]
  },
  {
   "cell_type": "code",
   "execution_count": 3,
   "id": "04984639",
   "metadata": {},
   "outputs": [
    {
     "data": {
      "text/html": [
       "<div>\n",
       "<style scoped>\n",
       "    .dataframe tbody tr th:only-of-type {\n",
       "        vertical-align: middle;\n",
       "    }\n",
       "\n",
       "    .dataframe tbody tr th {\n",
       "        vertical-align: top;\n",
       "    }\n",
       "\n",
       "    .dataframe thead th {\n",
       "        text-align: right;\n",
       "    }\n",
       "</style>\n",
       "<table border=\"1\" class=\"dataframe\">\n",
       "  <thead>\n",
       "    <tr style=\"text-align: right;\">\n",
       "      <th></th>\n",
       "      <th>month_block</th>\n",
       "      <th>appid</th>\n",
       "      <th>genres</th>\n",
       "      <th>name</th>\n",
       "      <th>monthly_user</th>\n",
       "    </tr>\n",
       "  </thead>\n",
       "  <tbody>\n",
       "    <tr>\n",
       "      <th>0</th>\n",
       "      <td>2017-12-01</td>\n",
       "      <td>578080</td>\n",
       "      <td>Action</td>\n",
       "      <td>PLAYERUNKNOWN'S BATTLEGROUNDS</td>\n",
       "      <td>3.724404e+07</td>\n",
       "    </tr>\n",
       "    <tr>\n",
       "      <th>1</th>\n",
       "      <td>2017-12-01</td>\n",
       "      <td>570</td>\n",
       "      <td>Action</td>\n",
       "      <td>Dota 2</td>\n",
       "      <td>1.310847e+07</td>\n",
       "    </tr>\n",
       "    <tr>\n",
       "      <th>2</th>\n",
       "      <td>2017-12-01</td>\n",
       "      <td>730</td>\n",
       "      <td>Action</td>\n",
       "      <td>Counter-Strike: Global Offensive</td>\n",
       "      <td>8.702029e+06</td>\n",
       "    </tr>\n",
       "    <tr>\n",
       "      <th>3</th>\n",
       "      <td>2017-12-01</td>\n",
       "      <td>271590</td>\n",
       "      <td>Action</td>\n",
       "      <td>Grand Theft Auto V</td>\n",
       "      <td>2.407840e+06</td>\n",
       "    </tr>\n",
       "    <tr>\n",
       "      <th>4</th>\n",
       "      <td>2017-12-01</td>\n",
       "      <td>359550</td>\n",
       "      <td>Action</td>\n",
       "      <td>Tom Clancy's Rainbow Six Siege</td>\n",
       "      <td>1.498630e+06</td>\n",
       "    </tr>\n",
       "  </tbody>\n",
       "</table>\n",
       "</div>"
      ],
      "text/plain": [
       "  month_block   appid  genres                              name  monthly_user\n",
       "0  2017-12-01  578080  Action     PLAYERUNKNOWN'S BATTLEGROUNDS  3.724404e+07\n",
       "1  2017-12-01     570  Action                            Dota 2  1.310847e+07\n",
       "2  2017-12-01     730  Action  Counter-Strike: Global Offensive  8.702029e+06\n",
       "3  2017-12-01  271590  Action                Grand Theft Auto V  2.407840e+06\n",
       "4  2017-12-01  359550  Action    Tom Clancy's Rainbow Six Siege  1.498630e+06"
      ]
     },
     "execution_count": 3,
     "metadata": {},
     "output_type": "execute_result"
    }
   ],
   "source": [
    "df = pd.read_parquet('./data/top5_monthly_genre.parquet')\n",
    "df.head()\n"
   ]
  }
 ],
 "metadata": {
  "kernelspec": {
   "display_name": "Python 3",
   "language": "python",
   "name": "python3"
  },
  "language_info": {
   "codemirror_mode": {
    "name": "ipython",
    "version": 3
   },
   "file_extension": ".py",
   "mimetype": "text/x-python",
   "name": "python",
   "nbconvert_exporter": "python",
   "pygments_lexer": "ipython3",
   "version": "3.11.9"
  }
 },
 "nbformat": 4,
 "nbformat_minor": 5
}
